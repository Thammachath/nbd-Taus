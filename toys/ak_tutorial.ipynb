{
 "cells": [
  {
   "attachments": {},
   "cell_type": "markdown",
   "metadata": {},
   "source": [
    "# Awkward Array toy for NanoAOD builder function"
   ]
  },
  {
   "cell_type": "markdown",
   "metadata": {},
   "source": [
    "### ak.Array"
   ]
  },
  {
   "cell_type": "code",
   "execution_count": 1,
   "metadata": {},
   "outputs": [],
   "source": [
    "import awkward as ak\n",
    "import numpy as np\n",
    "import pandas as pd"
   ]
  },
  {
   "attachments": {},
   "cell_type": "markdown",
   "metadata": {},
   "source": [
    "Defining a simple ak array"
   ]
  },
  {
   "cell_type": "code",
   "execution_count": 2,
   "metadata": {},
   "outputs": [],
   "source": [
    "a = ak.Array([[1, 2, 3], [], [4, 5]])"
   ]
  },
  {
   "attachments": {},
   "cell_type": "markdown",
   "metadata": {},
   "source": [
    "ak.num gives us a way in which we can store information about the number of subentries"
   ]
  },
  {
   "cell_type": "code",
   "execution_count": 3,
   "metadata": {},
   "outputs": [
    {
     "name": "stdout",
     "output_type": "stream",
     "text": [
      "[3, 0, 2]\n",
      "5\n"
     ]
    }
   ],
   "source": [
    "subs = ak.num(a)\n",
    "print(subs)\n",
    "sum = ak.sum(subs)\n",
    "print(sum)"
   ]
  },
  {
   "attachments": {},
   "cell_type": "markdown",
   "metadata": {},
   "source": [
    "We can flatten and unflatten easily"
   ]
  },
  {
   "cell_type": "code",
   "execution_count": 4,
   "metadata": {},
   "outputs": [
    {
     "name": "stdout",
     "output_type": "stream",
     "text": [
      "[1, 2, 3, 4, 5]\n"
     ]
    },
    {
     "data": {
      "text/html": [
       "<pre>[[1, 2, 3],\n",
       " [],\n",
       " [4, 5]]\n",
       "---------------------\n",
       "type: 3 * var * int64</pre>"
      ],
      "text/plain": [
       "<Array [[1, 2, 3], [], [4, 5]] type='3 * var * int64'>"
      ]
     },
     "execution_count": 4,
     "metadata": {},
     "output_type": "execute_result"
    }
   ],
   "source": [
    "flat = ak.flatten(a, axis=1) # flatten along the subentry axis\n",
    "print(flat)\n",
    "\n",
    "ak.unflatten(flat, subs)"
   ]
  },
  {
   "attachments": {},
   "cell_type": "markdown",
   "metadata": {},
   "source": [
    "We also can apply a mask over the ak.Array, using the entries substructure, just like the efficiency net output"
   ]
  },
  {
   "cell_type": "code",
   "execution_count": 5,
   "metadata": {},
   "outputs": [
    {
     "name": "stdout",
     "output_type": "stream",
     "text": [
      "[False  True False False  True]\n",
      "[[False, True, False], [], [False, True]]\n"
     ]
    }
   ],
   "source": [
    "flat_mask = np.array([True, False, False, False, True])\n",
    "\n",
    "import numpy as np\n",
    "\n",
    "np.random.seed(0)\n",
    "\n",
    "x = np.random.rand(5)\n",
    "y = np.random.rand(5)\n",
    "\n",
    "flat_mask = x > y\n",
    "\n",
    "print(flat_mask)\n",
    "\n",
    "mask = ak.unflatten(flat_mask, subs)\n",
    "\n",
    "print(mask)"
   ]
  },
  {
   "attachments": {},
   "cell_type": "markdown",
   "metadata": {},
   "source": [
    "Then we have 2 ways in which we can apply the mask:\n",
    "* using ak.mask, keeping `None` as a placeholder for masked-out entries "
   ]
  },
  {
   "cell_type": "code",
   "execution_count": 6,
   "metadata": {},
   "outputs": [
    {
     "data": {
      "text/html": [
       "<pre>[[None, 2, None],\n",
       " [],\n",
       " [None, 5]]\n",
       "----------------------\n",
       "type: 3 * var * ?int64</pre>"
      ],
      "text/plain": [
       "<Array [[None, 2, None], [], [None, 5]] type='3 * var * ?int64'>"
      ]
     },
     "execution_count": 6,
     "metadata": {},
     "output_type": "execute_result"
    }
   ],
   "source": [
    "ak.mask(a, mask)"
   ]
  },
  {
   "attachments": {},
   "cell_type": "markdown",
   "metadata": {},
   "source": [
    "* using the __getitem__() method, since it works as numpy"
   ]
  },
  {
   "cell_type": "code",
   "execution_count": 7,
   "metadata": {},
   "outputs": [
    {
     "data": {
      "text/html": [
       "<pre>[[2],\n",
       " [],\n",
       " [5]]\n",
       "---------------------\n",
       "type: 3 * var * int64</pre>"
      ],
      "text/plain": [
       "<Array [[2], [], [5]] type='3 * var * int64'>"
      ]
     },
     "execution_count": 7,
     "metadata": {},
     "output_type": "execute_result"
    }
   ],
   "source": [
    "a[mask]"
   ]
  },
  {
   "attachments": {},
   "cell_type": "markdown",
   "metadata": {},
   "source": [
    "We can also concatenate event-wise"
   ]
  },
  {
   "cell_type": "code",
   "execution_count": 8,
   "metadata": {},
   "outputs": [
    {
     "data": {
      "text/html": [
       "<pre>[[1, 2, 3, 1],\n",
       " [2, 3],\n",
       " [4, 5]]\n",
       "---------------------\n",
       "type: 3 * var * int64</pre>"
      ],
      "text/plain": [
       "<Array [[1, 2, 3, 1], [2, 3], [4, 5]] type='3 * var * int64'>"
      ]
     },
     "execution_count": 8,
     "metadata": {},
     "output_type": "execute_result"
    }
   ],
   "source": [
    "b = ak.Array([[1], [2, 3], []])\n",
    "\n",
    "ak.concatenate([a, b], axis=1)"
   ]
  },
  {
   "attachments": {},
   "cell_type": "markdown",
   "metadata": {},
   "source": [
    "or just append the new events to the old array"
   ]
  },
  {
   "cell_type": "code",
   "execution_count": 9,
   "metadata": {},
   "outputs": [
    {
     "data": {
      "text/html": [
       "<pre>[[1, 2, 3],\n",
       " [],\n",
       " [4, 5],\n",
       " [1],\n",
       " [2, 3],\n",
       " []]\n",
       "---------------------\n",
       "type: 6 * var * int64</pre>"
      ],
      "text/plain": [
       "<Array [[1, 2, 3], [], [4, 5], [1], [2, 3], []] type='6 * var * int64'>"
      ]
     },
     "execution_count": 9,
     "metadata": {},
     "output_type": "execute_result"
    }
   ],
   "source": [
    "ak.concatenate([a, b], axis=0)"
   ]
  },
  {
   "attachments": {},
   "cell_type": "markdown",
   "metadata": {},
   "source": [
    "### ak.Record aka awkward RDataFrames"
   ]
  },
  {
   "attachments": {},
   "cell_type": "markdown",
   "metadata": {},
   "source": [
    "#### Basic operations"
   ]
  },
  {
   "attachments": {},
   "cell_type": "markdown",
   "metadata": {},
   "source": [
    "Now we simulate a RDataFrame data structure and see how it works. ak.from_rdataframe() returns an ak.Array with the following structure:\n",
    "```\n",
    "[{event_0 all_vars}, {varX : [valX_0, valX_1, ...], varY : [valY_0, ...]}, {...}, ...]\n",
    "```"
   ]
  },
  {
   "cell_type": "code",
   "execution_count": 10,
   "metadata": {},
   "outputs": [
    {
     "name": "stdout",
     "output_type": "stream",
     "text": [
      "type: 3 * {\n",
      "    Electron_pt: var * float64,\n",
      "    Electron_eta: var * float64,\n",
      "    Muon_pt: var * float64\n",
      "}\n",
      "[{Electron_pt: [21.6, 15], Electron_eta: [0.108, 18], Muon_pt: [15.8]},\n",
      " {Electron_pt: [], Electron_eta: [], Muon_pt: [16.2]},\n",
      " {Electron_pt: [56], Electron_eta: [0.6], Muon_pt: []}]\n"
     ]
    }
   ],
   "source": [
    "awk = ak.Array(\n",
    "    [\n",
    "        {\"Electron_pt\": [21.6, 15], \"Electron_eta\": [0.108, 18], \"Muon_pt\": [15.8]},\n",
    "        {\"Electron_pt\": [], \"Electron_eta\": [], \"Muon_pt\": [16.2]},\n",
    "        {\"Electron_pt\": [56], \"Electron_eta\": [0.6], \"Muon_pt\": []},\n",
    "    ]\n",
    ")\n",
    "\n",
    "awk.show(type=True)"
   ]
  },
  {
   "attachments": {},
   "cell_type": "markdown",
   "metadata": {},
   "source": [
    "We can select multiple columns"
   ]
  },
  {
   "cell_type": "code",
   "execution_count": 11,
   "metadata": {},
   "outputs": [
    {
     "data": {
      "text/html": [
       "<pre>[{Electron_pt: [21.6, 15], Electron_eta: [0.108, 18]},\n",
       " {Electron_pt: [], Electron_eta: []},\n",
       " {Electron_pt: [56], Electron_eta: [0.6]}]\n",
       "------------------------------------------------------\n",
       "type: 3 * {\n",
       "    Electron_pt: var * float64,\n",
       "    Electron_eta: var * float64\n",
       "}</pre>"
      ],
      "text/plain": [
       "<Array [{Electron_pt: [...], ...}, ..., {...}] type='3 * {Electron_pt: var ...'>"
      ]
     },
     "execution_count": 11,
     "metadata": {},
     "output_type": "execute_result"
    }
   ],
   "source": [
    "awk[[\"Electron_pt\", \"Electron_eta\"]]"
   ]
  },
  {
   "attachments": {},
   "cell_type": "markdown",
   "metadata": {},
   "source": [
    "Entries structures"
   ]
  },
  {
   "cell_type": "code",
   "execution_count": 12,
   "metadata": {},
   "outputs": [
    {
     "name": "stdout",
     "output_type": "stream",
     "text": [
      "3\n",
      "[{Electron_pt: 2, Electron_eta: 2, Muon_pt: 1}, ..., {Electron_pt: 1, ...}]\n"
     ]
    }
   ],
   "source": [
    "ev = ak.num(awk, axis=0) # \"events\"\n",
    "print(ev)\n",
    "\n",
    "sub = ak.num(awk, axis=1) # \"subentries\"\n",
    "print(sub)"
   ]
  },
  {
   "attachments": {},
   "cell_type": "markdown",
   "metadata": {},
   "source": [
    "We cannot flatten these kind of structures, but we can for its content\n"
   ]
  },
  {
   "cell_type": "code",
   "execution_count": 13,
   "metadata": {},
   "outputs": [
    {
     "name": "stdout",
     "output_type": "stream",
     "text": [
      "type: 2 * float64\n",
      "[15.8,\n",
      " 16.2]\n"
     ]
    },
    {
     "data": {
      "text/html": [
       "<pre>[[15.8],\n",
       " [16.2],\n",
       " []]\n",
       "-----------------------\n",
       "type: 3 * var * float64</pre>"
      ],
      "text/plain": [
       "<Array [[15.8], [16.2], []] type='3 * var * float64'>"
      ]
     },
     "execution_count": 13,
     "metadata": {},
     "output_type": "execute_result"
    }
   ],
   "source": [
    "pt = ak.flatten(awk[\"Muon_pt\"], axis=1)\n",
    "n = ak.num(awk[\"Muon_pt\"], axis=1)\n",
    "pt.show(type=True)\n",
    "\n",
    "ak.unflatten(pt, n)"
   ]
  },
  {
   "attachments": {},
   "cell_type": "markdown",
   "metadata": {},
   "source": [
    "The same holds for masking, since we are not able to unflatten to the entire structure"
   ]
  },
  {
   "attachments": {},
   "cell_type": "markdown",
   "metadata": {},
   "source": [
    "Converting to Pandas dataframe is easy, but we should pay attention on columns lenght, as always"
   ]
  },
  {
   "cell_type": "code",
   "execution_count": 60,
   "metadata": {},
   "outputs": [
    {
     "name": "stdout",
     "output_type": "stream",
     "text": [
      "[{Electron_pt: [21.6, 45], Electron_eta: [0.108, ...]},\n",
      " {Electron_pt: [], Electron_eta: []},\n",
      " {Electron_pt: [56, 30], Electron_eta: [0.6, 0.3]}]\n",
      "                Electron_pt  Electron_eta\n",
      "entry subentry                           \n",
      "0     0                21.6         0.108\n",
      "      1                45.0         0.600\n",
      "2     0                56.0         0.600\n",
      "      1                30.0         0.300\n",
      "[2, 0, 2]\n"
     ]
    }
   ],
   "source": [
    "awk = ak.Array(\n",
    "    [\n",
    "        {\"Electron_pt\": [21.6, 15, 45], \"Electron_eta\": [0.108, 18, 0.6]},\n",
    "        {\"Electron_pt\": [], \"Electron_eta\": []},\n",
    "        {\"Electron_pt\": [56, 12, 30], \"Electron_eta\": [0.6, 0.4, 0.3]},\n",
    "    ]\n",
    ")\n",
    "\n",
    "awk = awk[awk.Electron_pt > 20]\n",
    "awk.show()\n",
    "\n",
    "df = ak.to_dataframe(awk)\n",
    "print(df) # we lost the second event muon\n",
    "\n",
    "# df = ak.to_dataframe(awk[[\"Muon_pt\"]])\n",
    "# # print(df)\n",
    "\n",
    "n = ak.num(awk[\"Electron_pt\"], axis=1)\n",
    "print(n)\n",
    "\n",
    "df = ak.to_dataframe(awk[[\"Electron_pt\", \"Electron_eta\"]]).reset_index(drop=True)\n",
    "# print(df)\n"
   ]
  },
  {
   "attachments": {},
   "cell_type": "markdown",
   "metadata": {},
   "source": [
    "This is the kind of structure that we use in evaluating our models. To return back to the RDataframe the old script should work."
   ]
  },
  {
   "cell_type": "code",
   "execution_count": 102,
   "metadata": {},
   "outputs": [
    {
     "name": "stdout",
     "output_type": "stream",
     "text": [
      "[{Electron_pt: 21.6, Electron_eta: 0.108},\n",
      " {Electron_pt: 45, Electron_eta: 0.6},\n",
      " {Electron_pt: 56, Electron_eta: 0.6},\n",
      " {Electron_pt: 30, Electron_eta: 0.3}]\n",
      "[21.6, 45, 56, 30]\n"
     ]
    },
    {
     "ename": "ValueError",
     "evalue": "while calling\n\n    ak.unflatten(\n        array = <Array [21.6, 45, 56, 30] type='4 * float64'>\n        counts = <Array [2, 0, 2] type='3 * int64'>\n        axis = 1\n        highlevel = True\n        behavior = None\n    )\n\nError details: structure imposed by 'counts' does not fit in the array or partition at axis=1",
     "output_type": "error",
     "traceback": [
      "\u001b[0;31m---------------------------------------------------------------------------\u001b[0m",
      "\u001b[0;31mValueError\u001b[0m                                Traceback (most recent call last)",
      "Cell \u001b[0;32mIn[102], line 12\u001b[0m\n\u001b[1;32m     10\u001b[0m \u001b[39mfor\u001b[39;00m var \u001b[39min\u001b[39;00m original\u001b[39m.\u001b[39mfields:\n\u001b[1;32m     11\u001b[0m     \u001b[39mprint\u001b[39m(original[var])\n\u001b[0;32m---> 12\u001b[0m     original[var] \u001b[39m=\u001b[39m ak\u001b[39m.\u001b[39;49munflatten(original[var], n, axis\u001b[39m=\u001b[39;49m\u001b[39m1\u001b[39;49m)\n\u001b[1;32m     14\u001b[0m \u001b[39m# original.show(limit_cols=1000)\u001b[39;00m\n\u001b[1;32m     15\u001b[0m \n\u001b[1;32m     16\u001b[0m \u001b[39m# original.show()\u001b[39;00m\n\u001b[0;32m   (...)\u001b[0m\n\u001b[1;32m     21\u001b[0m \u001b[39m# original = original[ak.argsort(original.Electron_pt, axis=1, ascending=False)]\u001b[39;00m\n\u001b[1;32m     22\u001b[0m \u001b[39m# original.show(limit_cols=1000)\u001b[39;00m\n",
      "File \u001b[0;32m~/.local/lib/python3.11/site-packages/awkward/operations/ak_unflatten.py:87\u001b[0m, in \u001b[0;36munflatten\u001b[0;34m(array, counts, axis, highlevel, behavior)\u001b[0m\n\u001b[1;32m     15\u001b[0m \u001b[39m\u001b[39m\u001b[39m\"\"\"\u001b[39;00m\n\u001b[1;32m     16\u001b[0m \u001b[39mArgs:\u001b[39;00m\n\u001b[1;32m     17\u001b[0m \u001b[39m    array: Array-like data (anything #ak.to_layout recognizes).\u001b[39;00m\n\u001b[0;32m   (...)\u001b[0m\n\u001b[1;32m     75\u001b[0m \u001b[39mSee also #ak.num and #ak.flatten.\u001b[39;00m\n\u001b[1;32m     76\u001b[0m \u001b[39m\"\"\"\u001b[39;00m\n\u001b[1;32m     77\u001b[0m \u001b[39mwith\u001b[39;00m ak\u001b[39m.\u001b[39m_errors\u001b[39m.\u001b[39mOperationErrorContext(\n\u001b[1;32m     78\u001b[0m     \u001b[39m\"\u001b[39m\u001b[39mak.unflatten\u001b[39m\u001b[39m\"\u001b[39m,\n\u001b[1;32m     79\u001b[0m     {\n\u001b[0;32m   (...)\u001b[0m\n\u001b[1;32m     85\u001b[0m     },\n\u001b[1;32m     86\u001b[0m ):\n\u001b[0;32m---> 87\u001b[0m     \u001b[39mreturn\u001b[39;00m _impl(array, counts, axis, highlevel, behavior)\n",
      "File \u001b[0;32m~/.local/lib/python3.11/site-packages/awkward/operations/ak_unflatten.py:241\u001b[0m, in \u001b[0;36m_impl\u001b[0;34m(array, counts, axis, highlevel, behavior)\u001b[0m\n\u001b[1;32m    234\u001b[0m     out \u001b[39m=\u001b[39m ak\u001b[39m.\u001b[39m_do\u001b[39m.\u001b[39mrecursively_apply(layout, apply)\n\u001b[1;32m    236\u001b[0m \u001b[39mif\u001b[39;00m (\n\u001b[1;32m    237\u001b[0m     current_offsets \u001b[39mis\u001b[39;00m \u001b[39mnot\u001b[39;00m \u001b[39mNone\u001b[39;00m\n\u001b[1;32m    238\u001b[0m     \u001b[39mand\u001b[39;00m current_offsets\u001b[39m.\u001b[39msize \u001b[39mis\u001b[39;00m \u001b[39mnot\u001b[39;00m unknown_length\n\u001b[1;32m    239\u001b[0m     \u001b[39mand\u001b[39;00m \u001b[39mnot\u001b[39;00m (current_offsets\u001b[39m.\u001b[39msize \u001b[39m==\u001b[39m \u001b[39m1\u001b[39m \u001b[39mand\u001b[39;00m current_offsets[\u001b[39m0\u001b[39m] \u001b[39m==\u001b[39m \u001b[39m0\u001b[39m)\n\u001b[1;32m    240\u001b[0m ):\n\u001b[0;32m--> 241\u001b[0m     \u001b[39mraise\u001b[39;00m ak\u001b[39m.\u001b[39m_errors\u001b[39m.\u001b[39mwrap_error(\n\u001b[1;32m    242\u001b[0m         \u001b[39mValueError\u001b[39;00m(\n\u001b[1;32m    243\u001b[0m             \u001b[39m\"\u001b[39m\u001b[39mstructure imposed by \u001b[39m\u001b[39m'\u001b[39m\u001b[39mcounts\u001b[39m\u001b[39m'\u001b[39m\u001b[39m does not fit in the array or partition \u001b[39m\u001b[39m\"\u001b[39m\n\u001b[1;32m    244\u001b[0m             \u001b[39m\"\u001b[39m\u001b[39mat axis=\u001b[39m\u001b[39m{}\u001b[39;00m\u001b[39m\"\u001b[39m\u001b[39m.\u001b[39mformat(axis)\n\u001b[1;32m    245\u001b[0m         )\n\u001b[1;32m    246\u001b[0m     )\n\u001b[1;32m    248\u001b[0m \u001b[39mreturn\u001b[39;00m wrap_layout(out, behavior, highlevel)\n",
      "\u001b[0;31mValueError\u001b[0m: while calling\n\n    ak.unflatten(\n        array = <Array [21.6, 45, 56, 30] type='4 * float64'>\n        counts = <Array [2, 0, 2] type='3 * int64'>\n        axis = 1\n        highlevel = True\n        behavior = None\n    )\n\nError details: structure imposed by 'counts' does not fit in the array or partition at axis=1"
     ]
    }
   ],
   "source": [
    "d = dict(zip(df.columns, df.values.T))\n",
    "original = ak.zip(d)\n",
    "# original = ak.Record(d)\n",
    "# original = ak.Record(dict(zip([\"Electron_pt\", \"Electron_eta\"], df.values.T)))\n",
    "# original = ak.unflatten(original, n)\n",
    "original.show(limit_cols=1000)\n",
    "\n",
    "# original = ak.unflatten(original, n)\n",
    "\n",
    "for var in original.fields:\n",
    "    print(original[var])\n",
    "    original[var] = ak.unflatten(original[var], n, axis=1)\n",
    "\n",
    "# original.show(limit_cols=1000)\n",
    "\n",
    "# original.show()\n",
    "# print(type(original))\n",
    "# original = ak.unflatten(original, n)\n",
    "# original.show(limit_cols=1000)\n",
    "# print(type(original))\n",
    "# original = original[ak.argsort(original.Electron_pt, axis=1, ascending=False)]\n",
    "# original.show(limit_cols=1000)"
   ]
  },
  {
   "attachments": {},
   "cell_type": "markdown",
   "metadata": {},
   "source": [
    "Concatenation:"
   ]
  },
  {
   "cell_type": "code",
   "execution_count": 16,
   "metadata": {},
   "outputs": [
    {
     "data": {
      "text/html": [
       "<pre>[{Electron_pt: [21.6, 15, 12, 40], Electron_eta: [0.108, ...], ...},\n",
       " {Electron_pt: [20], Electron_eta: [0.2], Muon_pt: [16.2]},\n",
       " {Electron_pt: [56, 21], Electron_eta: [0.6, 0.3], Muon_pt: []}]\n",
       "--------------------------------------------------------------------\n",
       "type: 3 * {\n",
       "    Electron_pt: var * float64,\n",
       "    Electron_eta: var * float64,\n",
       "    Muon_pt: var * float64\n",
       "}</pre>"
      ],
      "text/plain": [
       "<Array [{Electron_pt: [...], ...}, ..., {...}] type='3 * {Electron_pt: var ...'>"
      ]
     },
     "execution_count": 16,
     "metadata": {},
     "output_type": "execute_result"
    }
   ],
   "source": [
    "awk_2 = ak.Array(\n",
    "    [\n",
    "        {\"Electron_pt\": [12, 40], \"Electron_eta\": [0.4, 0.5], \"Muon_pt\": []},\n",
    "        {\"Electron_pt\": [20.0], \"Electron_eta\": [0.2], \"Muon_pt\": []},\n",
    "        {\"Electron_pt\": [21.0], \"Electron_eta\": [0.3], \"Muon_pt\": []},\n",
    "    ]\n",
    ")\n",
    "\n",
    "ak.concatenate([awk, awk_2], axis=1)"
   ]
  },
  {
   "attachments": {},
   "cell_type": "markdown",
   "metadata": {},
   "source": [
    "#### Merging into a single RDataFrame\n"
   ]
  },
  {
   "attachments": {},
   "cell_type": "markdown",
   "metadata": {},
   "source": [
    "Make a different Array, containing different objetcs"
   ]
  },
  {
   "cell_type": "code",
   "execution_count": 17,
   "metadata": {},
   "outputs": [],
   "source": [
    "awk_2 = ak.Array([{\"Jet_pt\": [12, 23]}, {\"Jet_pt\": [22]}, {\"Jet_pt\": [25]}])"
   ]
  },
  {
   "attachments": {},
   "cell_type": "markdown",
   "metadata": {},
   "source": [
    "We merge two Arrays of Records resembling the RDataFrame structure by defining the following dictionary"
   ]
  },
  {
   "cell_type": "code",
   "execution_count": 18,
   "metadata": {},
   "outputs": [
    {
     "name": "stdout",
     "output_type": "stream",
     "text": [
      "{'Electron_pt': <Array [[21.6, 15], [], [56]] type='3 * var * float64'>, 'Electron_eta': <Array [[0.108, 18], [], [0.6]] type='3 * var * float64'>, 'Muon_pt': <Array [[15.8], [16.2], []] type='3 * var * float64'>, 'Jet_pt': <Array [[12, 23], [22], [25]] type='3 * var * int64'>}\n"
     ]
    }
   ],
   "source": [
    "dict_1 = dict(zip(awk.fields, [awk[field] for field in awk.fields]))\n",
    "dict_2 = dict(zip(awk_2.fields, [awk_2[field] for field in awk_2.fields]))\n",
    "\n",
    "total = dict_1 | dict_2\n",
    "print(total)"
   ]
  },
  {
   "attachments": {},
   "cell_type": "markdown",
   "metadata": {},
   "source": [
    "and then make an awkward array"
   ]
  },
  {
   "cell_type": "code",
   "execution_count": 19,
   "metadata": {},
   "outputs": [
    {
     "name": "stdout",
     "output_type": "stream",
     "text": [
      "[{Electron_pt: [21.6, 15], Electron_eta: [0.108, 18], Muon_pt: [15.8], ...},\n",
      " {Electron_pt: [], Electron_eta: [], Muon_pt: [16.2], Jet_pt: [22]},\n",
      " {Electron_pt: [56], Electron_eta: [0.6], Muon_pt: [], Jet_pt: [25]}]\n"
     ]
    }
   ],
   "source": [
    "merged = ak.zip(total, depth_limit=1)\n",
    "merged.show()"
   ]
  },
  {
   "attachments": {},
   "cell_type": "markdown",
   "metadata": {},
   "source": [
    "Since we have to loop over the fields of both old and new arrays, I do not know how much efficient this method is. \n",
    "Another way is to append the selected record, looping only on the columns to be appended"
   ]
  },
  {
   "cell_type": "code",
   "execution_count": 20,
   "metadata": {},
   "outputs": [
    {
     "name": "stdout",
     "output_type": "stream",
     "text": [
      "type: 3 * {\n",
      "    Electron_pt: var * float64,\n",
      "    Electron_eta: var * float64,\n",
      "    Muon_pt: var * float64,\n",
      "    Jet_pt: var * int64\n",
      "}\n",
      "[{Electron_pt: [21.6, 15], Electron_eta: [0.108, 18], Muon_pt: [15.8], Jet_pt: [12, 23]},\n",
      " {Electron_pt: [], Electron_eta: [], Muon_pt: [16.2], Jet_pt: [22]},\n",
      " {Electron_pt: [56], Electron_eta: [0.6], Muon_pt: [], Jet_pt: [25]}]\n"
     ]
    }
   ],
   "source": [
    "awk[\"Jet_pt\"] = awk_2[\"Jet_pt\"]\n",
    "awk.show(type=True, limit_cols=1000)"
   ]
  }
 ],
 "metadata": {
  "kernelspec": {
   "display_name": "Python 3",
   "language": "python",
   "name": "python3"
  },
  "language_info": {
   "codemirror_mode": {
    "name": "ipython",
    "version": 3
   },
   "file_extension": ".py",
   "mimetype": "text/x-python",
   "name": "python",
   "nbconvert_exporter": "python",
   "pygments_lexer": "ipython3",
   "version": "3.11.3"
  },
  "orig_nbformat": 4
 },
 "nbformat": 4,
 "nbformat_minor": 2
}
